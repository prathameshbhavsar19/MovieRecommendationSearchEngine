{
 "cells": [
  {
   "cell_type": "code",
   "execution_count": 0,
   "metadata": {
    "application/vnd.databricks.v1+cell": {
     "cellMetadata": {
      "byteLimit": 2048000,
      "rowLimit": 10000
     },
     "inputWidgets": {},
     "nuid": "9f9ad24f-1964-42ae-a8e6-c578e968e443",
     "showTitle": false,
     "tableResultSettingsMap": {},
     "title": ""
    }
   },
   "outputs": [
    {
     "output_type": "stream",
     "name": "stdout",
     "output_type": "stream",
     "text": [
      "Python interpreter will be restarted.\nRequirement already satisfied: nltk in /local_disk0/.ephemeral_nfs/envs/pythonEnv-327a2b72-3e1e-4c02-8483-e4dee73c36d2/lib/python3.9/site-packages (3.9.1)\nRequirement already satisfied: regex>=2021.8.3 in /local_disk0/.ephemeral_nfs/envs/pythonEnv-327a2b72-3e1e-4c02-8483-e4dee73c36d2/lib/python3.9/site-packages (from nltk) (2024.11.6)\nRequirement already satisfied: tqdm in /local_disk0/.ephemeral_nfs/envs/pythonEnv-327a2b72-3e1e-4c02-8483-e4dee73c36d2/lib/python3.9/site-packages (from nltk) (4.67.1)\nRequirement already satisfied: joblib in /databricks/python3/lib/python3.9/site-packages (from nltk) (1.1.1)\nRequirement already satisfied: click in /databricks/python3/lib/python3.9/site-packages (from nltk) (8.0.4)\nPython interpreter will be restarted.\n"
     ]
    }
   ],
   "source": [
    "%pip install nltk"
   ]
  },
  {
   "cell_type": "code",
   "execution_count": 0,
   "metadata": {
    "application/vnd.databricks.v1+cell": {
     "cellMetadata": {
      "byteLimit": 2048000,
      "rowLimit": 10000
     },
     "inputWidgets": {},
     "nuid": "086a9860-75f9-488c-b9ff-be671799cc12",
     "showTitle": false,
     "tableResultSettingsMap": {},
     "title": ""
    }
   },
   "outputs": [],
   "source": [
    "from pyspark.sql import SparkSession\n",
    "from pyspark import SparkContext\n",
    "import numpy as np\n",
    "import nltk\n",
    "from nltk.corpus import stopwords"
   ]
  },
  {
   "cell_type": "code",
   "execution_count": 0,
   "metadata": {
    "application/vnd.databricks.v1+cell": {
     "cellMetadata": {
      "byteLimit": 2048000,
      "rowLimit": 10000
     },
     "inputWidgets": {},
     "nuid": "4b2b8657-296e-4c5d-88d9-e59e53c37a55",
     "showTitle": false,
     "tableResultSettingsMap": {},
     "title": ""
    }
   },
   "outputs": [],
   "source": [
    "spark = SparkSession.builder.getOrCreate()\n",
    "sc = spark.sparkContext"
   ]
  },
  {
   "cell_type": "code",
   "execution_count": 0,
   "metadata": {
    "application/vnd.databricks.v1+cell": {
     "cellMetadata": {
      "byteLimit": 2048000,
      "rowLimit": 10000
     },
     "inputWidgets": {},
     "nuid": "967ce031-e641-4c7d-b1eb-66ffedde3d0e",
     "showTitle": false,
     "tableResultSettingsMap": {},
     "title": ""
    }
   },
   "outputs": [
    {
     "output_type": "stream",
     "name": "stderr",
     "output_type": "stream",
     "text": [
      "[nltk_data] Downloading package stopwords to /root/nltk_data...\n[nltk_data]   Package stopwords is already up-to-date!\n"
     ]
    },
    {
     "output_type": "stream",
     "name": "stdout",
     "output_type": "stream",
     "text": [
      "Out[132]: True"
     ]
    }
   ],
   "source": [
    "nltk.download(\"stopwords\")"
   ]
  },
  {
   "cell_type": "code",
   "execution_count": 0,
   "metadata": {
    "application/vnd.databricks.v1+cell": {
     "cellMetadata": {
      "byteLimit": 2048000,
      "rowLimit": 10000
     },
     "inputWidgets": {},
     "nuid": "fd340832-295f-4986-98ad-a2c1c64dc9cb",
     "showTitle": false,
     "tableResultSettingsMap": {},
     "title": ""
    }
   },
   "outputs": [],
   "source": [
    "# Load plot summaries\n",
    "plot_summaries = spark.read.option(\"delimiter\", \"\\t\").csv(\"dbfs:/FileStore/plot_summaries.txt\")\n",
    "plot_summaries = plot_summaries.selectExpr(\"_c0 as movie_id\", \"_c1 as plot_summary\")"
   ]
  },
  {
   "cell_type": "code",
   "execution_count": 0,
   "metadata": {
    "application/vnd.databricks.v1+cell": {
     "cellMetadata": {
      "byteLimit": 2048000,
      "rowLimit": 10000
     },
     "inputWidgets": {},
     "nuid": "f7dc956e-1f80-4980-9ff8-3daa01c7fe65",
     "showTitle": false,
     "tableResultSettingsMap": {},
     "title": ""
    }
   },
   "outputs": [],
   "source": [
    "# Load movie metadata\n",
    "movie_metadata = spark.read.option(\"delimiter\", \"\\t\").csv(\"dbfs:/FileStore/movie_metadata.tsv\")\n",
    "movie_metadata = movie_metadata.selectExpr(\"_c0 as movie_id\", \"_c2 as movie_name\")"
   ]
  },
  {
   "cell_type": "code",
   "execution_count": 0,
   "metadata": {
    "application/vnd.databricks.v1+cell": {
     "cellMetadata": {
      "byteLimit": 2048000,
      "rowLimit": 10000
     },
     "inputWidgets": {},
     "nuid": "00cea559-e114-482f-a1cc-8d508bf93a11",
     "showTitle": false,
     "tableResultSettingsMap": {},
     "title": ""
    }
   },
   "outputs": [],
   "source": [
    "# Convert DataFrames to RDDs\n",
    "plot_summaries_rdd = plot_summaries.rdd\n",
    "movie_metadata_rdd = movie_metadata.rdd"
   ]
  },
  {
   "cell_type": "code",
   "execution_count": 0,
   "metadata": {
    "application/vnd.databricks.v1+cell": {
     "cellMetadata": {
      "byteLimit": 2048000,
      "rowLimit": 10000
     },
     "inputWidgets": {},
     "nuid": "b607b929-b030-4d2a-8e58-a1ddac4d2ed9",
     "showTitle": false,
     "tableResultSettingsMap": {},
     "title": ""
    }
   },
   "outputs": [],
   "source": [
    "# Load NLTK stopwords\n",
    "stopwords = set(stopwords.words(\"english\"))"
   ]
  },
  {
   "cell_type": "code",
   "execution_count": 0,
   "metadata": {
    "application/vnd.databricks.v1+cell": {
     "cellMetadata": {
      "byteLimit": 2048000,
      "rowLimit": 10000
     },
     "inputWidgets": {},
     "nuid": "e8df8cf0-bf98-4be0-9f68-96e0a97c3e7c",
     "showTitle": false,
     "tableResultSettingsMap": {},
     "title": ""
    }
   },
   "outputs": [],
   "source": [
    "# Tokenization and Stopword Removal\n",
    "def tokenize_and_filter(row):\n",
    "    movie_id, plot_summary = row\n",
    "    words = plot_summary.lower().split()\n",
    "    filtered_words = [word for word in words if word not in stopwords]\n",
    "    return [(movie_id, word) for word in filtered_words]\n",
    "\n",
    "words_rdd = plot_summaries_rdd.flatMap(tokenize_and_filter)"
   ]
  },
  {
   "cell_type": "code",
   "execution_count": 0,
   "metadata": {
    "application/vnd.databricks.v1+cell": {
     "cellMetadata": {
      "byteLimit": 2048000,
      "rowLimit": 10000
     },
     "inputWidgets": {},
     "nuid": "7bbfb9d7-b0b7-4654-b64e-dfff9bbba3c2",
     "showTitle": false,
     "tableResultSettingsMap": {},
     "title": ""
    }
   },
   "outputs": [],
   "source": [
    "# TF Calculation\n",
    "tf_rdd = words_rdd.map(lambda x: ((x[0], x[1]), 1)).reduceByKey(lambda a, b: a + b)"
   ]
  },
  {
   "cell_type": "code",
   "execution_count": 0,
   "metadata": {
    "application/vnd.databricks.v1+cell": {
     "cellMetadata": {
      "byteLimit": 2048000,
      "rowLimit": 10000
     },
     "inputWidgets": {},
     "nuid": "904d6980-2cfe-4eb4-9dfa-f45577fbabd6",
     "showTitle": false,
     "tableResultSettingsMap": {},
     "title": ""
    }
   },
   "outputs": [],
   "source": [
    "# DF Calculation\n",
    "df_rdd = words_rdd.map(lambda x: (x[1], 1)).distinct().reduceByKey(lambda a, b: a + b)"
   ]
  },
  {
   "cell_type": "code",
   "execution_count": 0,
   "metadata": {
    "application/vnd.databricks.v1+cell": {
     "cellMetadata": {
      "byteLimit": 2048000,
      "rowLimit": 10000
     },
     "inputWidgets": {},
     "nuid": "2cc2788c-f882-40a6-a58e-a0bcd1d1d7bb",
     "showTitle": false,
     "tableResultSettingsMap": {},
     "title": ""
    }
   },
   "outputs": [],
   "source": [
    "# IDF Calculation\n",
    "num_docs = plot_summaries_rdd.count()\n",
    "idf_rdd = df_rdd.map(lambda x: (x[0], np.log(num_docs / x[1])))"
   ]
  },
  {
   "cell_type": "code",
   "execution_count": 0,
   "metadata": {
    "application/vnd.databricks.v1+cell": {
     "cellMetadata": {
      "byteLimit": 2048000,
      "rowLimit": 10000
     },
     "inputWidgets": {},
     "nuid": "10067cd8-d0bc-4a2e-b5fb-e020844426da",
     "showTitle": false,
     "tableResultSettingsMap": {},
     "title": ""
    }
   },
   "outputs": [],
   "source": [
    "# TF-IDF Calculation\n",
    "tf_idf_rdd = tf_rdd.map(lambda x: (x[0][1], (x[0][0], x[1]))).join(idf_rdd).map(lambda x: (x[1][0][0], (x[0], x[1][0][1] * x[1][1])))"
   ]
  },
  {
   "cell_type": "code",
   "execution_count": 0,
   "metadata": {
    "application/vnd.databricks.v1+cell": {
     "cellMetadata": {
      "byteLimit": 2048000,
      "rowLimit": 10000
     },
     "inputWidgets": {},
     "nuid": "5c509187-dfa6-4b0c-989f-847a9f3df601",
     "showTitle": false,
     "tableResultSettingsMap": {},
     "title": ""
    }
   },
   "outputs": [],
   "source": [
    "# Convert to Lookup Table for easier access\n",
    "tf_idf_lookup = tf_idf_rdd.collectAsMap()"
   ]
  },
  {
   "cell_type": "code",
   "execution_count": 0,
   "metadata": {
    "application/vnd.databricks.v1+cell": {
     "cellMetadata": {
      "byteLimit": 2048000,
      "rowLimit": 10000
     },
     "inputWidgets": {},
     "nuid": "48669cdd-690f-4790-8538-6fe7a4d934a2",
     "showTitle": false,
     "tableResultSettingsMap": {},
     "title": ""
    }
   },
   "outputs": [],
   "source": [
    "def search(query, tf_idf_lookup, movie_metadata_rdd, top_n=10):\n",
    "    query_terms = query.lower().split()\n",
    "    query_terms = [term for term in query_terms if term not in stopwords]\n",
    "\n",
    "    if len(query_terms) == 1:\n",
    "        # Single-term query: Rank by TF-IDF\n",
    "        term = query_terms[0]\n",
    "        results = tf_idf_rdd.filter(lambda x: x[1][0] == term).map(lambda x: (x[0], x[1][1])).takeOrdered(top_n, key=lambda x: -x[1])\n",
    "    else:\n",
    "        # Multi-term query: Rank by cosine similarity\n",
    "        query_vector = {}\n",
    "        for term in query_terms:\n",
    "            query_vector[term] = 1  # Binary representation for simplicity\n",
    "\n",
    "        # Compute cosine similarity for each document\n",
    "        def compute_cosine_similarity(doc_id, tf_idf_entries):\n",
    "            doc_vector = {}\n",
    "            for term, tf_idf in tf_idf_entries:\n",
    "                doc_vector[term] = tf_idf\n",
    "            dot_product = sum(query_vector.get(term, 0) * doc_vector.get(term, 0) for term in query_vector)\n",
    "            query_norm = np.sqrt(sum(val ** 2 for val in query_vector.values()))\n",
    "            doc_norm = np.sqrt(sum(val ** 2 for val in doc_vector.values()))\n",
    "            if query_norm == 0 or doc_norm == 0:\n",
    "                return (doc_id, 0)\n",
    "            return (doc_id, dot_product / (query_norm * doc_norm))\n",
    "\n",
    "        results = tf_idf_rdd.groupByKey().map(lambda x: compute_cosine_similarity(x[0], x[1])).takeOrdered(top_n, key=lambda x: -x[1])\n",
    "\n",
    "    # Map movie IDs to movie names\n",
    "    movie_id_to_name = movie_metadata_rdd.collectAsMap()\n",
    "    return [(movie_id_to_name.get(movie_id, \"Unknown\"), score) for movie_id, score in results]"
   ]
  },
  {
   "cell_type": "code",
   "execution_count": 0,
   "metadata": {
    "application/vnd.databricks.v1+cell": {
     "cellMetadata": {
      "byteLimit": 2048000,
      "rowLimit": 10000
     },
     "inputWidgets": {},
     "nuid": "90a896a7-6002-4c5a-84a1-e58f4c4d69b2",
     "showTitle": false,
     "tableResultSettingsMap": {},
     "title": ""
    }
   },
   "outputs": [],
   "source": [
    "# Read and Process search terms\n",
    "search_terms_path = \"dbfs:/FileStore/searchQueries.txt\"\n",
    "search_terms = spark.read.text(search_terms_path).rdd.flatMap(lambda x: x).collect()"
   ]
  },
  {
   "cell_type": "code",
   "execution_count": 0,
   "metadata": {
    "application/vnd.databricks.v1+cell": {
     "cellMetadata": {
      "byteLimit": 2048000,
      "rowLimit": 10000
     },
     "inputWidgets": {},
     "nuid": "3fdc04ab-0dea-4a86-bdca-606cae8d52b7",
     "showTitle": false,
     "tableResultSettingsMap": {},
     "title": ""
    }
   },
   "outputs": [
    {
     "output_type": "stream",
     "name": "stdout",
     "output_type": "stream",
     "text": [
      "Results for query: action\nCrayon Shin-chan: Action Kamen vs Leotard Devil: 117.17952618841805\nAction Man: Robot Atak: 85.22147359157677\nCrayon Shin-chan: The Storm Called The Jungle: 63.916105193682576\nRosencrantz & Guildenstern Are Dead: 42.610736795788384\nBombaat: 42.610736795788384\nSmallpox: 42.610736795788384\nWest Side Story: 42.610736795788384\nThe 40-Year-Old Virgin: 31.958052596841288\nThe Daredevil Men: 31.958052596841288\nCrayon Shin-chan: The Storm Called: Operation Golden Spy: 31.958052596841288\n\n==================================================\n\nResults for query: romantic\nThe Little Rascals: 42.610736795788384\nGenova: 42.610736795788384\nIt Had to Be You!: 31.958052596841288\nBoogie Town: 31.958052596841288\nOnce: 31.958052596841288\nGidget: 31.958052596841288\nA Cold Wind in August: 31.958052596841288\nBilly's Hollywood Screen Kiss: 31.958052596841288\nHe's Just Not That Into You: 31.958052596841288\nCocktail: 31.958052596841288\n\n==================================================\n\nResults for query: comedy\nWhere the Truth Lies: 42.610736795788384\nGeneral Motors 50th Anniversary Show: 42.610736795788384\nHollywood Outlaw Movie: 42.610736795788384\nMan on the Moon: 31.958052596841288\nCinta Kura Kura: 31.958052596841288\nFunny Bones: 31.958052596841288\nWhen Stand Up Stood Out: 31.958052596841288\nLaadam: 21.305368397894192\nPremaku Velayara: 21.305368397894192\nLibertas: 21.305368397894192\n\n==================================================\n\nResults for query: horror\nGaro: Red Requiem: 85.22147359157677\nThe Last Horror Film: 53.26342099473548\nFright Night: 42.610736795788384\nKiba Gaiden: 42.610736795788384\nThe Pagemaster: 42.610736795788384\nJack the Bear: 31.958052596841288\nDark House: 31.958052596841288\nMicrowave Massacre: 31.958052596841288\nThe Grudge 3: 31.958052596841288\nLightning Bug: 31.958052596841288\n\n==================================================\n\nResults for query: sci-fi\nSocket: 10.652684198947096\nBowfinger: 10.652684198947096\nBoy: 10.652684198947096\nArthur Christmas: 10.652684198947096\nThe Europa Report: 10.652684198947096\nThe Animatrix: 10.652684198947096\nOn Your Mark: 10.652684198947096\nSummer Time Machine Blues: 10.652684198947096\nMutant Swinger from Mars: 10.652684198947096\nAce Attorney: 10.652684198947096\n\n==================================================\n\nResults for query: funny superhero movie\nChingari: 0.3396831102433788\nMurder at Midnight: 0.32732683535398865\nIruvattam Manavaatti: 0.31108550841912763\nOdessa in Flames: 0.2857738033247043\nJosettante Hero: 0.2847473987257497\nThe Last Movie: 0.2691909510290829\nSwapnam Kondu Thulabharam: 0.26490647141300877\nKadaksham: 0.26490647141300877\nThe Curse: 0.23829795864119538\nThis Is Nollywood: 0.23791547571544322\n\n==================================================\n\nResults for query: thriller with mystery\nAccused: 0.21320071635561041\nKaun? Kaisey?: 0.20412414523193148\nDhuaan: 0.20412414523193148\nKhwab: 0.196116135138184\nThe Shadow: 0.196116135138184\nKranti Kshetra: 0.196116135138184\nThe Comeback: 0.18731716231633874\nNight of the Living Doo: 0.18107149208503698\nDead Men Tell: 0.17677669529663687\nBaghaawat - Ek Jung: 0.17677669529663684\n\n==================================================\n\nResults for query: romantic comedy with drama\nEat me!: 0.3481553119113957\nMango Soufflé: 0.3333333333333333\nMarriage Story: 0.32025630761017426\nBhakta Prahlada: 0.2721655269759087\nAdiós problemas: 0.2721655269759086\nManasina Maathu: 0.25819888974716115\nOn the Beat: 0.25819888974716115\nCinta Kura Kura: 0.2512594538148032\nPal Pal Dil Ke Ssaat: 0.24618298195866545\nGeneral Motors 50th Anniversary Show: 0.2201927530252722\n\n==================================================\n\nResults for query: fantasy world with ancient magic and prophecies\nBled: 0.23008949665421113\nParadox: 0.21772246650578037\nMagic Flute Diaries: 0.21764287503300353\nGirl In 3D: 0.2138089935299394\nOld Bill and Son: 0.21081851067789195\nThe Lucky Star: 0.2051956704170308\nDragon Hunters: 0.20303047565772359\nTroll: 0.19156525704422997\nMerlin the Magic Mouse: 0.19069251784911845\nThe Fabulous Journey to the Center of the Earth: 0.18650096164806276\n\n==================================================\n\nResults for query: dystopian society with government control themes\nThe Drivetime: 0.22703830459324992\nShanghai: 0.19289712886816485\nKarate Cop: 0.1773317255329773\nMuseum of Government Waste: 0.17568209223157671\n2033: 0.16609095970747997\nElectronic Labyrinth THX 1138:4EB: 0.15596257347301085\nKong Island: 0.15289415743128762\nGamer: 0.1473890051903036\nLeathernecking: 0.1414213562373095\nDeadly Advice: 0.1414213562373095\n\n==================================================\n\n"
     ]
    }
   ],
   "source": [
    "for query in search_terms:\n",
    "    print(f\"Results for query: {query}\")\n",
    "    results = search(query, tf_idf_lookup, movie_metadata_rdd)\n",
    "    for movie_name, score in results:\n",
    "        print(f\"{movie_name}: {score}\")\n",
    "    print(\"\\n\" + \"=\" * 50 + \"\\n\")"
   ]
  }
 ],
 "metadata": {
  "application/vnd.databricks.v1+notebook": {
   "computePreferences": null,
   "dashboards": [],
   "environmentMetadata": {
    "base_environment": "",
    "client": "1"
   },
   "language": "python",
   "notebookMetadata": {
    "pythonIndentUnit": 4
   },
   "notebookName": "Assignment1_Problem2",
   "widgets": {}
  }
 },
 "nbformat": 4,
 "nbformat_minor": 0
}
